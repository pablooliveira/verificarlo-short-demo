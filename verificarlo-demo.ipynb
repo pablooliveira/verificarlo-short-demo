{
 "cells": [
  {
   "cell_type": "markdown",
   "metadata": {},
   "source": [
    "# Verificarlo demonstration - 2024-12-05\n",
    "### P. Oliveira (Li-PaRAD, UVSQ, U. Paris-Saclay)\n",
    "<img src=\"verificarlo-logo.png\" width=\"100\" />\n",
    "\n",
    "[github.com/verificarlo/verificarlo](https://github.com/verificarlo/verificarlo) "
   ]
  },
  {
   "cell_type": "markdown",
   "metadata": {},
   "source": [
    "## Using verificarlo: a simple demonstration"
   ]
  },
  {
   "cell_type": "code",
   "execution_count": 1,
   "metadata": {},
   "outputs": [
    {
     "name": "stdout",
     "output_type": "stream",
     "text": [
      "usage: verificarlo [-h] [-E] [-S] [-c] [-o file] [--ddebug]\r\n",
      "                   [--function function] [--include-file file]\r\n",
      "                   [--exclude-file file] [-static] [--verbose] [--inst-fcmp]\r\n",
      "                   [--inst-fma] [--inst-cast] [--inst-func] [--show-cmd]\r\n",
      "                   [--save-temps] [--version] [--linker {clang,flang,clang++}]\r\n",
      "                   [--emit-llvm]\r\n",
      "\r\n",
      "Compiles a program replacing floating point operation with calls to the mcalib\r\n",
      "(Montecarlo Arithmetic).\r\n",
      "\r\n",
      "options:\r\n",
      "  -h, --help            show this help message and exit\r\n",
      "  -E                    only run the preprocessor\r\n",
      "  -S                    only run preprocess and compilation steps\r\n",
      "  -c                    only run preprocess, compile, and assemble steps\r\n",
      "  -o file               write output to <file>\r\n",
      "  --ddebug              enable delta-debug mode\r\n",
      "  --function function   only instrument <function>\r\n",
      "  --include-file file   include-list module and functions\r\n",
      "  --exclude-file file   exclude-list module and functions\r\n",
      "  -static, --static     produce a static binary\r\n",
      "  --verbose             verbose output\r\n",
      "  --inst-fcmp           instrument floating point comparisons\r\n",
      "  --inst-fma            instrument floating point fma\r\n",
      "  --inst-cast           instrument floating point castings\r\n",
      "  --inst-func           instrument functions\r\n",
      "  --show-cmd            show internal commands\r\n",
      "  --save-temps          save intermediate files\r\n",
      "  --version             show program's version number and exit\r\n",
      "  --linker {clang,flang,clang++}\r\n",
      "                        linker to use, clang by default\r\n",
      "  --emit-llvm           emit an LLVM bitcode with the instrumentation built-in\r\n"
     ]
    }
   ],
   "source": [
    "!verificarlo -h"
   ]
  },
  {
   "cell_type": "code",
   "execution_count": 2,
   "metadata": {},
   "outputs": [
    {
     "name": "stdout",
     "output_type": "stream",
     "text": [
      "Overwriting archimedes.c\n"
     ]
    }
   ],
   "source": [
    "%%writefile archimedes.c\n",
    "#include <math.h>\n",
    "#include <stdio.h>\n",
    "\n",
    "/* Archimedes method for computing PI using circumscribed polygons */\n",
    "double archimedes(int N) {\n",
    "  double ti, tii, fact, res;\n",
    "\n",
    "  /* Print header */\n",
    "  fprintf(stderr, \"i\\tAi+1\\tTi+1\\n\");\n",
    "\n",
    "  ti = 1. / sqrt(3.);\n",
    "  fact = 1;\n",
    "  for (int i = 1; i <= N; i++) {\n",
    "    double s = sqrt(ti * ti + 1);\n",
    "    tii = (s - 1) / ti;\n",
    "    ti = tii;\n",
    "    fact *= 2;\n",
    "    res = 6 * fact * tii;\n",
    "    fprintf(stderr, \"%2d\\t%.16e\\t%.16e\\n\", i, res, tii);\n",
    "  }\n",
    "  return res;\n",
    "}\n",
    "\n",
    "int main(void) {\n",
    "  /* Approximate pi with 20 iterations of the Archimedes method */\n",
    "  const int N = 20;\n",
    "  double pi = archimedes(N);\n",
    "  printf(\"%.15e\\n\", pi);\n",
    "  return 0;\n",
    "}\n"
   ]
  },
  {
   "cell_type": "code",
   "execution_count": 3,
   "metadata": {},
   "outputs": [],
   "source": [
    "!rm *.ll\n",
    "!verificarlo-c --save-temps --inst-fma --ddebug -g archimedes.c -o archimedes -lm"
   ]
  },
  {
   "cell_type": "code",
   "execution_count": 4,
   "metadata": {},
   "outputs": [
    {
     "name": "stdout",
     "output_type": "stream",
     "text": [
      "\u001b[1m--- archimedes.ul8elbv5.1.ll\t2024-12-04 08:12:57.375587869 +0100\u001b[0m\r\n",
      "\u001b[1m+++ archimedes.vs1g7icr.2.ll\t2024-12-04 08:12:57.417587340 +0100\u001b[0m\r\n",
      "\u001b[36m@@ -1,4 +1,4 @@\u001b[0m\r\n",
      "\u001b[31m-; ModuleID = 'archimedes.c'\u001b[0m\r\n",
      "\u001b[32m+; ModuleID = '/home/poliveira/demo-verificarlo-hceres/archimedes.ul8elbv5.1.ll'\u001b[0m\r\n",
      " source_filename = \"archimedes.c\"\r\n",
      " target datalayout = \"e-m:e-p270:32:32-p271:32:32-p272:64:64-i64:64-f80:128-n8:16:32:64-S128\"\r\n",
      " target triple = \"x86_64-pc-linux-gnu\"\r\n",
      "\u001b[36m@@ -30,8 +30,8 @@\u001b[0m\r\n",
      "   call void @llvm.dbg.declare(metadata double* %6, metadata !24, metadata !DIExpression()), !dbg !25\r\n",
      "   %9 = load %struct._IO_FILE*, %struct._IO_FILE** @stderr, align 8, !dbg !26\r\n",
      "   %10 = call i32 (%struct._IO_FILE*, i8*, ...) @fprintf(%struct._IO_FILE* noundef %9, i8* noundef getelementptr inbounds ([13 x i8], [13 x i8]* @.str, i64 0, i64 0)), !dbg !27\r\n",
      "\u001b[31m-  %11 = call double @sqrt(double noundef 3.000000e+00) #4, !dbg !28\u001b[0m\r\n",
      "\u001b[31m-  %12 = fdiv double 1.000000e+00, %11, !dbg !29\u001b[0m\r\n",
      "\u001b[32m+  %11 = call double @sqrt(double noundef 3.000000e+00) #6, !dbg !28\u001b[0m\r\n",
      "\u001b[32m+  %12 = call double @_doublediv(double noundef 1.000000e+00, double noundef %11) #5, !dbg !29\u001b[0m\r\n",
      "   store double %12, double* %3, align 8, !dbg !30\r\n",
      "   store double 1.000000e+00, double* %5, align 8, !dbg !31\r\n",
      "   call void @llvm.dbg.declare(metadata i32* %7, metadata !32, metadata !DIExpression()), !dbg !34\r\n",
      "\u001b[36m@@ -48,23 +48,23 @@\u001b[0m\r\n",
      "   call void @llvm.dbg.declare(metadata double* %8, metadata !41, metadata !DIExpression()), !dbg !43\r\n",
      "   %18 = load double, double* %3, align 8, !dbg !44\r\n",
      "   %19 = load double, double* %3, align 8, !dbg !45\r\n",
      "\u001b[31m-  %20 = call double @llvm.fmuladd.f64(double %18, double %19, double 1.000000e+00), !dbg !46\u001b[0m\r\n",
      "\u001b[31m-  %21 = call double @sqrt(double noundef %20) #4, !dbg !47\u001b[0m\r\n",
      "\u001b[32m+  %20 = call double @_doublefma(double noundef %18, double noundef %19, double noundef 1.000000e+00) #5, !dbg !46\u001b[0m\r\n",
      "\u001b[32m+  %21 = call double @sqrt(double noundef %20) #6, !dbg !47\u001b[0m\r\n",
      "   store double %21, double* %8, align 8, !dbg !43\r\n",
      "   %22 = load double, double* %8, align 8, !dbg !48\r\n",
      "\u001b[31m-  %23 = fsub double %22, 1.000000e+00, !dbg !49\u001b[0m\r\n",
      "\u001b[32m+  %23 = call double @_doublesub(double noundef %22, double noundef 1.000000e+00) #5, !dbg !49\u001b[0m\r\n",
      "   %24 = load double, double* %3, align 8, !dbg !50\r\n",
      "\u001b[31m-  %25 = fdiv double %23, %24, !dbg !51\u001b[0m\r\n",
      "\u001b[32m+  %25 = call double @_doublediv(double noundef %23, double noundef %24) #5, !dbg !51\u001b[0m\r\n",
      "   store double %25, double* %4, align 8, !dbg !52\r\n",
      "   %26 = load double, double* %4, align 8, !dbg !53\r\n",
      "   store double %26, double* %3, align 8, !dbg !54\r\n",
      "   %27 = load double, double* %5, align 8, !dbg !55\r\n",
      "\u001b[31m-  %28 = fmul double %27, 2.000000e+00, !dbg !55\u001b[0m\r\n",
      "\u001b[32m+  %28 = call double @_doublemul(double noundef %27, double noundef 2.000000e+00) #5, !dbg !55\u001b[0m\r\n",
      "   store double %28, double* %5, align 8, !dbg !55\r\n",
      "   %29 = load double, double* %5, align 8, !dbg !56\r\n",
      "\u001b[31m-  %30 = fmul double 6.000000e+00, %29, !dbg !57\u001b[0m\r\n",
      "\u001b[32m+  %30 = call double @_doublemul(double noundef 6.000000e+00, double noundef %29) #5, !dbg !57\u001b[0m\r\n",
      "   %31 = load double, double* %4, align 8, !dbg !58\r\n",
      "\u001b[31m-  %32 = fmul double %30, %31, !dbg !59\u001b[0m\r\n",
      "\u001b[32m+  %32 = call double @_doublemul(double noundef %30, double noundef %31) #5, !dbg !59\u001b[0m\r\n",
      "   store double %32, double* %6, align 8, !dbg !60\r\n",
      "   %33 = load %struct._IO_FILE*, %struct._IO_FILE** @stderr, align 8, !dbg !61\r\n",
      "   %34 = load i32, i32* %7, align 4, !dbg !62\r\n",
      "\u001b[36m@@ -96,7 +96,7 @@\u001b[0m\r\n",
      " declare double @llvm.fmuladd.f64(double, double, double) #1\r\n",
      " \r\n",
      " ; Function Attrs: noinline nounwind optnone uwtable\r\n",
      "\u001b[31m-define dso_local i32 @main() #0 !dbg !74 {\u001b[0m\r\n",
      "\u001b[32m+define dso_local i32 @main() #4 !dbg !74 {\u001b[0m\r\n",
      "   %1 = alloca i32, align 4\r\n",
      "   %2 = alloca i32, align 4\r\n",
      "   %3 = alloca double, align 8\r\n",
      "\u001b[36m@@ -113,11 +113,25 @@\u001b[0m\r\n",
      " \r\n",
      " declare i32 @printf(i8* noundef, ...) #2\r\n",
      " \r\n",
      "\u001b[31m-attributes #0 = { noinline nounwind optnone uwtable \"frame-pointer\"=\"all\" \"min-legal-vector-width\"=\"0\" \"no-trapping-math\"=\"true\" \"stack-protector-buffer-size\"=\"8\" \"target-cpu\"=\"x86-64\" \"target-features\"=\"+cx8,+fxsr,+mmx,+sse,+sse2,+x87\" \"tune-cpu\"=\"generic\" }\u001b[0m\r\n",
      "\u001b[32m+; Function Attrs: nounwind uwtable\u001b[0m\r\n",
      "\u001b[32m+declare double @_doublediv(double noundef, double noundef) #5\u001b[0m\r\n",
      "\u001b[32m+\u001b[0m\r\n",
      "\u001b[32m+; Function Attrs: nounwind uwtable\u001b[0m\r\n",
      "\u001b[32m+declare double @_doublefma(double noundef, double noundef, double noundef) #5\u001b[0m\r\n",
      "\u001b[32m+\u001b[0m\r\n",
      "\u001b[32m+; Function Attrs: nounwind uwtable\u001b[0m\r\n",
      "\u001b[32m+declare double @_doublesub(double noundef, double noundef) #5\u001b[0m\r\n",
      "\u001b[32m+\u001b[0m\r\n",
      "\u001b[32m+; Function Attrs: nounwind uwtable\u001b[0m\r\n",
      "\u001b[32m+declare double @_doublemul(double noundef, double noundef) #5\u001b[0m\r\n",
      "\u001b[32m+\u001b[0m\r\n",
      "\u001b[32m+attributes #0 = { noinline nounwind optnone uwtable \"frame-pointer\"=\"all\" \"min-legal-vector-width\"=\"0\" \"no-trapping-math\"=\"true\" \"stack-protector-buffer-size\"=\"8\" \"target-cpu\"=\"skylake\" \"target-features\"=\"+64bit,+adx,+aes,+avx,+avx2,+bmi,+bmi2,+clflushopt,+cmov,+crc32,+cx16,+cx8,+f16c,+fma,+fsgsbase,+fxsr,+invpcid,+lzcnt,+mmx,+movbe,+pclmul,+popcnt,+prfchw,+rdrnd,+rdseed,+rtm,+sahf,+sgx,+sse,+sse2,+sse3,+sse4.1,+sse4.2,+ssse3,+x87,+xsave,+xsavec,+xsaveopt,+xsaves,-amx-bf16,-amx-int8,-amx-tile,-avx512bf16,-avx512bitalg,-avx512bw,-avx512cd,-avx512dq,-avx512er,-avx512f,-avx512fp16,-avx512ifma,-avx512pf,-avx512vbmi,-avx512vbmi2,-avx512vl,-avx512vnni,-avx512vp2intersect,-avx512vpopcntdq,-avxvnni,-cldemote,-clwb,-clzero,-enqcmd,-fma4,-gfni,-hreset,-kl,-lwp,-movdir64b,-movdiri,-mwaitx,-pconfig,-pku,-prefetchwt1,-ptwrite,-rdpid,-serialize,-sha,-shstk,-sse4a,-tbm,-tsxldtrk,-uintr,-vaes,-vpclmulqdq,-waitpkg,-wbnoinvd,-widekl,-xop\" \"tune-cpu\"=\"generic\" }\u001b[0m\r\n",
      " attributes #1 = { nofree nosync nounwind readnone speculatable willreturn }\r\n",
      " attributes #2 = { \"frame-pointer\"=\"all\" \"no-trapping-math\"=\"true\" \"stack-protector-buffer-size\"=\"8\" \"target-cpu\"=\"x86-64\" \"target-features\"=\"+cx8,+fxsr,+mmx,+sse,+sse2,+x87\" \"tune-cpu\"=\"generic\" }\r\n",
      " attributes #3 = { nounwind \"frame-pointer\"=\"all\" \"no-trapping-math\"=\"true\" \"stack-protector-buffer-size\"=\"8\" \"target-cpu\"=\"x86-64\" \"target-features\"=\"+cx8,+fxsr,+mmx,+sse,+sse2,+x87\" \"tune-cpu\"=\"generic\" }\r\n",
      "\u001b[31m-attributes #4 = { nounwind }\u001b[0m\r\n",
      "\u001b[32m+attributes #4 = { noinline nounwind optnone uwtable \"frame-pointer\"=\"all\" \"min-legal-vector-width\"=\"0\" \"no-trapping-math\"=\"true\" \"stack-protector-buffer-size\"=\"8\" \"target-cpu\"=\"x86-64\" \"target-features\"=\"+cx8,+fxsr,+mmx,+sse,+sse2,+x87\" \"tune-cpu\"=\"generic\" }\u001b[0m\r\n",
      "\u001b[32m+attributes #5 = { nounwind uwtable \"frame-pointer\"=\"none\" \"min-legal-vector-width\"=\"0\" \"no-trapping-math\"=\"true\" \"stack-protector-buffer-size\"=\"8\" \"target-cpu\"=\"skylake\" \"target-features\"=\"+64bit,+adx,+aes,+avx,+avx2,+bmi,+bmi2,+clflushopt,+cmov,+crc32,+cx16,+cx8,+f16c,+fma,+fsgsbase,+fxsr,+invpcid,+lzcnt,+mmx,+movbe,+pclmul,+popcnt,+prfchw,+rdrnd,+rdseed,+rtm,+sahf,+sgx,+sse,+sse2,+sse3,+sse4.1,+sse4.2,+ssse3,+x87,+xsave,+xsavec,+xsaveopt,+xsaves,-amx-bf16,-amx-int8,-amx-tile,-avx512bf16,-avx512bitalg,-avx512bw,-avx512cd,-avx512dq,-avx512er,-avx512f,-avx512fp16,-avx512ifma,-avx512pf,-avx512vbmi,-avx512vbmi2,-avx512vl,-avx512vnni,-avx512vp2intersect,-avx512vpopcntdq,-avxvnni,-cldemote,-clwb,-clzero,-enqcmd,-fma4,-gfni,-hreset,-kl,-lwp,-movdir64b,-movdiri,-mwaitx,-pconfig,-pku,-prefetchwt1,-ptwrite,-rdpid,-serialize,-sha,-shstk,-sse4a,-tbm,-tsxldtrk,-uintr,-vaes,-vpclmulqdq,-waitpkg,-wbnoinvd,-widekl,-xop\" }\u001b[0m\r\n",
      "\u001b[32m+attributes #6 = { nounwind }\u001b[0m\r\n",
      " \r\n",
      " !llvm.dbg.cu = !{!0}\r\n",
      " !llvm.module.flags = !{!2, !3, !4, !5, !6, !7, !8}\r\n"
     ]
    }
   ],
   "source": [
    "!diff -u --minimal --color archimedes*.1.ll archimedes*.2.ll"
   ]
  },
  {
   "cell_type": "code",
   "execution_count": 5,
   "metadata": {},
   "outputs": [
    {
     "name": "stdout",
     "output_type": "stream",
     "text": [
      "Info [verificarlo]: loaded backend libinterflop_ieee.so\r\n",
      "Info [interflop-ieee]: load backend with:\r\n",
      "Info [interflop-ieee]: debug = false\r\n",
      "Info [interflop-ieee]: debug-binary = false\r\n",
      "Info [interflop-ieee]: no-backend-name = false\r\n",
      "Info [interflop-ieee]: print-new-line = false\r\n",
      "Info [interflop-ieee]: print-subnormal-normalized = false\r\n",
      "Info [interflop-ieee]: count-op = false\r\n",
      "i\tAi+1\tTi+1\r\n",
      " 1\t3.2153903091734750e+00\t2.6794919243112292e-01\r\n",
      " 2\t3.1596599420975098e+00\t1.3165249758739625e-01\r\n",
      " 3\t3.1460862151314668e+00\t6.5543462815238887e-02\r\n",
      " 4\t3.1427145996455734e+00\t3.2736610412974723e-02\r\n",
      " 5\t3.1418730499798659e+00\t1.6363922135311803e-02\r\n",
      " 6\t3.1416627470550682e+00\t8.1814134037892401e-03\r\n",
      " 7\t3.1416101765995217e+00\t4.0906382507806269e-03\r\n",
      " 8\t3.1415970343233370e+00\t2.0453105692209224e-03\r\n",
      " 9\t3.1415937488168559e+00\t1.0226542151096536e-03\r\n",
      "10\t3.1415929278736332e+00\t5.1132697393776582e-04\r\n",
      "11\t3.1415927256225915e+00\t2.5566347050965098e-04\r\n",
      "12\t3.1415926717415452e+00\t1.2783173306240011e-04\r\n",
      "13\t3.1415926189008863e+00\t6.3915865456154103e-05\r\n",
      "14\t3.1415926717415452e+00\t3.1957933265600026e-05\r\n",
      "15\t3.1415919358819728e+00\t1.5978962890024684e-05\r\n",
      "16\t3.1415926717415452e+00\t7.9894833164000066e-06\r\n",
      "17\t3.1415810075793642e+00\t3.9947268264508110e-06\r\n",
      "18\t3.1415926717415452e+00\t1.9973708291000017e-06\r\n",
      "19\t3.1414061547376217e+00\t9.9862612239126268e-07\r\n",
      "20\t3.1405434924010995e+00\t4.9917594470995263e-07\r\n",
      "3.140543492401100e+00\r\n"
     ]
    }
   ],
   "source": [
    "!VFC_BACKENDS=\"libinterflop_ieee.so\" ./archimedes"
   ]
  },
  {
   "cell_type": "code",
   "execution_count": 6,
   "metadata": {},
   "outputs": [
    {
     "name": "stdout",
     "output_type": "stream",
     "text": [
      "3.140398006797074e+00\r\n"
     ]
    }
   ],
   "source": [
    "!VFC_BACKENDS=\"libinterflop_mca_int.so --mode=mca\" ./archimedes 2> /dev/null"
   ]
  },
  {
   "cell_type": "markdown",
   "metadata": {},
   "source": [
    "## Significant digits and confidence interval"
   ]
  },
  {
   "cell_type": "code",
   "execution_count": 7,
   "metadata": {},
   "outputs": [],
   "source": [
    "%matplotlib inline\n",
    "import math\n",
    "from helpers import *"
   ]
  },
  {
   "cell_type": "code",
   "execution_count": 8,
   "metadata": {},
   "outputs": [
    {
     "name": "stdout",
     "output_type": "stream",
     "text": [
      "array([3.14185462, 3.14185496, 3.14053803, 3.14052156, 3.1419424 ,\n",
      "       3.14053795, 3.14185496, 3.1419424 , 3.1405435 , 3.14194232,\n",
      "       3.14054349, 3.14194206, 3.14054213, 3.14054341, 3.14053803,\n",
      "       3.14045609, 3.14054213, 3.14052165, 3.14159267, 3.14193659,\n",
      "       3.14045609, 3.14185496, 3.14054341, 3.14054341, 3.14185462,\n",
      "       3.14045575, 3.14054315, 3.14185462, 3.14053803, 3.14054349])\n"
     ]
    }
   ],
   "source": [
    "samples = []\n",
    "for _ in range(30):\n",
    "    out = !VFC_BACKENDS=\"libinterflop_mca_int.so --mode=rr\" ./archimedes 2> /dev/null\n",
    "    samples.append(float(out[0]))    \n",
    "\n",
    "samples=np.array(samples)\n",
    "Z=samples/math.pi-1.0\n",
    "pprint(samples)"
   ]
  },
  {
   "cell_type": "code",
   "execution_count": 9,
   "metadata": {},
   "outputs": [
    {
     "name": "stdout",
     "output_type": "stream",
     "text": [
      "z                   s10  s2\n",
      "\u001b[32m0.0000\u001b[31m8338782711159\u001b[0m   4  13\n",
      "\u001b[32m0.0000\u001b[31m8349526802309\u001b[0m   4  13\n",
      "\u001b[32m0.000\u001b[31m33569709156878\u001b[0m   3  11\n",
      "\u001b[32m0.000\u001b[31m34094037334220\u001b[0m   3  11\n",
      "\u001b[32m0.000\u001b[31m11132716336326\u001b[0m   3  13\n",
      "\u001b[32m0.000\u001b[31m33572298543161\u001b[0m   3  11\n",
      "\u001b[32m0.0000\u001b[31m8349528950613\u001b[0m   4  13\n",
      "\u001b[32m0.000\u001b[31m11132886199827\u001b[0m   3  13\n",
      "\u001b[32m0.000\u001b[31m33395667902592\u001b[0m   3  11\n",
      "\u001b[32m0.000\u001b[31m11130125783954\u001b[0m   3  13\n",
      "\u001b[32m0.000\u001b[31m33395837864403\u001b[0m   3  11\n",
      "\u001b[32m0.000\u001b[31m11121844534090\u001b[0m   3  13\n",
      "\u001b[32m0.000\u001b[31m33439167709370\u001b[0m   3  11\n",
      "\u001b[32m0.000\u001b[31m33398427255726\u001b[0m   3  11\n",
      "\u001b[32m0.000\u001b[31m33569709148762\u001b[0m   3  11\n",
      "\u001b[32m0.000\u001b[31m36177786066327\u001b[0m   3  11\n",
      "\u001b[32m0.000\u001b[31m33439305668670\u001b[0m   3  11\n",
      "\u001b[32m0.000\u001b[31m34091150820381\u001b[0m   3  11\n",
      "\u001b[32m0.00000000\u001b[31m577779957\u001b[0m   8  27\n",
      "\u001b[32m0.000\u001b[31m10947895812241\u001b[0m   3  13\n",
      "\u001b[32m0.000\u001b[31m36177788222402\u001b[0m   3  11\n",
      "\u001b[32m0.0000\u001b[31m8349526794094\u001b[0m   4  13\n",
      "\u001b[32m0.000\u001b[31m33398554602659\u001b[0m   3  11\n",
      "\u001b[32m0.000\u001b[31m33398427247344\u001b[0m   3  11\n",
      "\u001b[32m0.0000\u001b[31m8338655302564\u001b[0m   4  13\n",
      "\u001b[32m0.000\u001b[31m36188654707159\u001b[0m   3  11\n",
      "\u001b[32m0.000\u001b[31m33406704652084\u001b[0m   3  11\n",
      "\u001b[32m0.0000\u001b[31m8338655302409\u001b[0m   4  13\n",
      "\u001b[32m0.000\u001b[31m33569709156944\u001b[0m   3  11\n",
      "\u001b[32m0.000\u001b[31m33395837866457\u001b[0m   3  11\n"
     ]
    }
   ],
   "source": [
    "print_errors(Z)"
   ]
  },
  {
   "cell_type": "code",
   "execution_count": 10,
   "metadata": {},
   "outputs": [
    {
     "name": "stdout",
     "output_type": "stream",
     "text": [
      "11 bits are significant (with no failures in the sample data) with p = 0.900 and alpha = 0.95\n"
     ]
    },
    {
     "data": {
      "image/png": "[encoded data removed]",
      "text/plain": [
       "<Figure size 430x300 with 1 Axes>"
      ]
     },
     "metadata": {},
     "output_type": "display_data"
    }
   ],
   "source": [
    "kth_significant  = np.array([count_success(Z, lambda z: significant(z, k)) for k in range(53)])\n",
    "bernoulli_ci(kth_significant, Z.size, .95, \"Significant\")"
   ]
  },
  {
   "cell_type": "markdown",
   "metadata": {},
   "source": [
    "## Pinpointing and fixing the error"
   ]
  },
  {
   "cell_type": "markdown",
   "metadata": {},
   "source": [
    "Delta-Debug (DD) is a general bug reduction method that allows to efficiently find a\n",
    "minimal set of conditions that trigger a bug.\n",
    "\n",
    "<table>\n",
    "<caption>Example of Delta-Debug bug minimization</caption>\n",
    "<thead>\n",
    "<tr class=\"header\">\n",
    "<th style=\"text-align: left;\">Step</th>\n",
    "<th style=\"text-align: center;\">Instructions with noise</th>\n",
    "<th style=\"text-align: right;\">Numerically Stable</th>\n",
    "</tr>\n",
    "</thead>\n",
    "<tbody>\n",
    "<tr class=\"odd\">\n",
    "<td style=\"text-align: left;\">1</td>\n",
    "<td style=\"text-align: center;\">1 2 3 4 . . . .</td>\n",
    "<td style=\"text-align: right;\">stable</td>\n",
    "</tr>\n",
    "<tr class=\"even\">\n",
    "<td style=\"text-align: left;\">2</td>\n",
    "<td style=\"text-align: center;\">. . . . 5 6 7 8</td>\n",
    "<td style=\"text-align: right;\">unstable</td>\n",
    "</tr>\n",
    "<tr class=\"odd\">\n",
    "<td style=\"text-align: left;\">3</td>\n",
    "<td style=\"text-align: center;\">. . . . 5 6 . .</td>\n",
    "<td style=\"text-align: right;\">stable</td>\n",
    "</tr>\n",
    "<tr class=\"even\">\n",
    "<td style=\"text-align: left;\">4</td>\n",
    "<td style=\"text-align: center;\">. . . . . . 7 8</td>\n",
    "<td style=\"text-align: right;\">unstable</td>\n",
    "</tr>\n",
    "<tr class=\"odd\">\n",
    "<td style=\"text-align: left;\">5</td>\n",
    "<td style=\"text-align: center;\">. . . . . . 7 .</td>\n",
    "<td style=\"text-align: right;\">unstable</td>\n",
    "</tr>\n",
    "<tr class=\"even\">\n",
    "<td style=\"text-align: left;\">Result (ddmin)</td>\n",
    "<td style=\"text-align: center;\">. . . . . . 7 .</td>\n",
    "<td style=\"text-align: right;\"></td>\n",
    "</tr>\n",
    "</tbody>\n",
    "</table>\n",
    "\n"
   ]
  },
  {
   "cell_type": "code",
   "execution_count": 11,
   "metadata": {},
   "outputs": [],
   "source": [
    "!verificarlo-c --ddebug -O0 -g archimedes.c -o archimedes -lm"
   ]
  },
  {
   "cell_type": "code",
   "execution_count": 12,
   "metadata": {},
   "outputs": [
    {
     "name": "stdout",
     "output_type": "stream",
     "text": [
      "/home/poliveira/demo-verificarlo-hceres/dd.line/294125a915071bd667d7ce20cd226350 --(cache) -> FAIL\r\n",
      "/home/poliveira/demo-verificarlo-hceres/dd.line/294125a915071bd667d7ce20cd226350 --(cache) -> FAIL\r\n",
      "/home/poliveira/demo-verificarlo-hceres/dd.line/63159a6ea73be9cf9578ca08b119c0df --(cache) -> FAIL\r\n",
      "/home/poliveira/demo-verificarlo-hceres/dd.line/ffe410bd5743deed309ad95cfe696494 --(cache)-> PASS(3)\r\n",
      "/home/poliveira/demo-verificarlo-hceres/dd.line/7e6f178d4fe4f65fe2dfb8308d36ccf5 --(cache) -> FAIL\r\n",
      "/home/poliveira/demo-verificarlo-hceres/dd.line/c6f6b7dac69598faf76343edd91f09bd --(cache) -> FAIL\r\n",
      "ddmin0 (0x402424: archimedes at archimedes.c:15):\r\n",
      "/home/poliveira/demo-verificarlo-hceres/dd.line/c6f6b7dac69598faf76343edd91f09bd --(cache) -> FAIL\r\n",
      "/home/poliveira/demo-verificarlo-hceres/dd.line/85fecdbd47deb445a38dee930b4b47f9 --(cache)-> PASS(3)\r\n",
      "/home/poliveira/demo-verificarlo-hceres/dd.line/0d4255a225ae3786a407616d809e04b2 --(cache)-> PASS(3)\r\n",
      "/home/poliveira/demo-verificarlo-hceres/dd.line/20b45cf88ac8f9fa7c9b15a796b1255f --(cache)-> PASS(5)\r\n",
      "Dichotomy split done\r\n",
      "Dichotomy split analyze done\r\n",
      "/home/poliveira/demo-verificarlo-hceres/dd.line/20b45cf88ac8f9fa7c9b15a796b1255f --(cache)-> PASS(5)\r\n",
      "rddmin-cmp (0x4023cc: archimedes at archimedes.c:11\r\n",
      "0x40242e: archimedes at archimedes.c:15\r\n",
      "0x40244f: archimedes at archimedes.c:17\r\n",
      "0x402466: archimedes at archimedes.c:18\r\n",
      "0x402470: archimedes at archimedes.c:18):\r\n",
      "/home/poliveira/demo-verificarlo-hceres/dd.line/20b45cf88ac8f9fa7c9b15a796b1255f --(cache)-> PASS(5)\r\n",
      "\r\n",
      "Elapsed Time: 0d 0h 0min 0s   \r\n",
      "dd.line  search : 0 run (with cache included: 43)\r\n"
     ]
    }
   ],
   "source": [
    "!VFC_BACKENDS=\"libinterflop_cancellation.so --tolerance 1\" vfc_ddebug ddRun ddCmp"
   ]
  },
  {
   "cell_type": "code",
   "execution_count": null,
   "metadata": {},
   "outputs": [],
   "source": [
    "!gvim -q <(./vfc_dderrors.py archimedes dd.line/rddmin-cmp/dd.line.exclude) && true"
   ]
  },
  {
   "cell_type": "markdown",
   "metadata": {},
   "source": [
    "\\begin{align*}\n",
    "  T_{i+1} & = \\frac{\\color{red}{\\sqrt{T_i^2+1} - 1}}{T_i} = \\frac{\\sqrt{T_i^2+1} - 1}{T_i} \\times \\frac{\\sqrt{T_i^2+1} + 1}{\\sqrt{T_i^2+1} + 1} \\\\\n",
    "          & = \\frac{T_i}{\\sqrt{T_i^2+1} + 1}\n",
    "\\end{align*}"
   ]
  },
  {
   "cell_type": "code",
   "execution_count": 13,
   "metadata": {},
   "outputs": [
    {
     "name": "stdout",
     "output_type": "stream",
     "text": [
      "Overwriting archimedes.c\n"
     ]
    }
   ],
   "source": [
    "%%writefile archimedes.c\n",
    "#include <math.h>\n",
    "#include <stdio.h>\n",
    "\n",
    "/* Archimedes method for computing PI using circumscribed polygons */\n",
    "double archimedes(int N) {\n",
    "  double ti, tii, fact, res;\n",
    "\n",
    "  /* Print header */\n",
    "  fprintf(stderr, \"i\\tAi+1\\tTi+1\\n\");\n",
    "\n",
    "  ti = 1. / sqrt(3.);\n",
    "  fact = 1;\n",
    "  for (int i = 1; i <= N; i++) {\n",
    "    double s = sqrt(ti * ti + 1);\n",
    "    tii = ti / (s + 1); /* Rewritten from tii = (s - 1) / ti; to remove cancellation */ \n",
    "    ti = tii;\n",
    "    fact *= 2;\n",
    "    res = 6 * fact * tii;\n",
    "    fprintf(stderr, \"%2d\\t%.16e\\t%.16e\\n\", i, res, tii);\n",
    "  }\n",
    "  return res;\n",
    "}\n",
    "\n",
    "int main(void) {\n",
    "  /* Approximate pi with 20 iterations of the Archimedes method */\n",
    "  const int N = 20;\n",
    "  double pi = archimedes(N);\n",
    "  printf(\"%.15e\\n\", pi);\n",
    "  return 0;\n",
    "}\n"
   ]
  },
  {
   "cell_type": "code",
   "execution_count": 14,
   "metadata": {},
   "outputs": [],
   "source": [
    "!verificarlo-c --save-temps --inst-fma --ddebug -g archimedes.c -o archimedes -lm"
   ]
  },
  {
   "cell_type": "code",
   "execution_count": 15,
   "metadata": {},
   "outputs": [
    {
     "name": "stdout",
     "output_type": "stream",
     "text": [
      "array([3.14159265, 3.14159265, 3.14159265, 3.14159265, 3.14159265,\n",
      "       3.14159265, 3.14159265, 3.14159265, 3.14159265, 3.14159265,\n",
      "       3.14159265, 3.14159265, 3.14159265, 3.14159265, 3.14159265,\n",
      "       3.14159265, 3.14159265, 3.14159265, 3.14159265, 3.14159265,\n",
      "       3.14159265, 3.14159265, 3.14159265, 3.14159265, 3.14159265,\n",
      "       3.14159265, 3.14159265, 3.14159265, 3.14159265])\n",
      "z                   s10  s2\n",
      "\u001b[32m0.0000000000000\u001b[31m8371\u001b[0m  13  43\n",
      "\u001b[32m0.0000000000000\u001b[31m8371\u001b[0m  13  43\n",
      "\u001b[32m0.0000000000000\u001b[31m8349\u001b[0m  13  43\n",
      "\u001b[32m0.0000000000000\u001b[31m8371\u001b[0m  13  43\n",
      "\u001b[32m0.0000000000000\u001b[31m8260\u001b[0m  13  43\n",
      "\u001b[32m0.0000000000000\u001b[31m8393\u001b[0m  13  43\n",
      "\u001b[32m0.0000000000000\u001b[31m8260\u001b[0m  13  43\n",
      "\u001b[32m0.0000000000000\u001b[31m8371\u001b[0m  13  43\n",
      "\u001b[32m0.0000000000000\u001b[31m8371\u001b[0m  13  43\n",
      "\u001b[32m0.0000000000000\u001b[31m8371\u001b[0m  13  43\n",
      "\u001b[32m0.0000000000000\u001b[31m8238\u001b[0m  13  43\n",
      "\u001b[32m0.0000000000000\u001b[31m8371\u001b[0m  13  43\n",
      "\u001b[32m0.0000000000000\u001b[31m8349\u001b[0m  13  43\n",
      "\u001b[32m0.0000000000000\u001b[31m8393\u001b[0m  13  43\n",
      "\u001b[32m0.0000000000000\u001b[31m8393\u001b[0m  13  43\n",
      "\u001b[32m0.0000000000000\u001b[31m8260\u001b[0m  13  43\n",
      "\u001b[32m0.0000000000000\u001b[31m8349\u001b[0m  13  43\n",
      "\u001b[32m0.0000000000000\u001b[31m8349\u001b[0m  13  43\n",
      "\u001b[32m0.0000000000000\u001b[31m8393\u001b[0m  13  43\n",
      "\u001b[32m0.0000000000000\u001b[31m8393\u001b[0m  13  43\n",
      "\u001b[32m0.0000000000000\u001b[31m8304\u001b[0m  13  43\n",
      "\u001b[32m0.0000000000000\u001b[31m8415\u001b[0m  13  43\n",
      "\u001b[32m0.0000000000000\u001b[31m8371\u001b[0m  13  43\n",
      "\u001b[32m0.0000000000000\u001b[31m8304\u001b[0m  13  43\n",
      "\u001b[32m0.0000000000000\u001b[31m8304\u001b[0m  13  43\n",
      "\u001b[32m0.0000000000000\u001b[31m8371\u001b[0m  13  43\n",
      "\u001b[32m0.0000000000000\u001b[31m8304\u001b[0m  13  43\n",
      "\u001b[32m0.0000000000000\u001b[31m8260\u001b[0m  13  43\n",
      "\u001b[32m0.0000000000000\u001b[31m8371\u001b[0m  13  43\n",
      "43 bits are significant (with no failures in the sample data) with p = 0.897 and alpha = 0.95\n"
     ]
    },
    {
     "data": {
      "image/png": "[encoded data removed]",
      "text/plain": [
       "<Figure size 430x300 with 1 Axes>"
      ]
     },
     "metadata": {},
     "output_type": "display_data"
    }
   ],
   "source": [
    "samples = []\n",
    "for _ in range(29):\n",
    "    out = !VFC_BACKENDS=\"libinterflop_mca_int.so --mode=rr\" ./archimedes 2> /dev/null\n",
    "    samples.append(float(out[0]))    \n",
    "\n",
    "samples=np.array(samples)\n",
    "Z=samples/math.pi-1.0\n",
    "pprint(samples)\n",
    "print_errors(Z)\n",
    "kth_significant  = np.array([count_success(Z, lambda z: significant(z, k)) for k in range(53)])\n",
    "bernoulli_ci(kth_significant, Z.size, .95, \"Significant\")"
   ]
  }
 ],
 "metadata": {
  "kernelspec": {
   "display_name": "hceres-kernel",
   "language": "python",
   "name": "hceres-kernel"
  },
  "language_info": {
   "codemirror_mode": {
    "name": "ipython",
    "version": 3
   },
   "file_extension": ".py",
   "mimetype": "text/x-python",
   "name": "python",
   "nbconvert_exporter": "python",
   "pygments_lexer": "ipython3",
   "version": "3.12.3"
  }
 },
 "nbformat": 4,
 "nbformat_minor": 2
}
